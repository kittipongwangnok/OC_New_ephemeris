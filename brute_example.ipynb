{
 "cells": [
  {
   "cell_type": "code",
   "execution_count": 8,
   "id": "f7480d9d",
   "metadata": {},
   "outputs": [
    {
     "name": "stdout",
     "output_type": "stream",
     "text": [
      "[2.]\n"
     ]
    }
   ],
   "source": [
    "import numpy\n",
    "import scipy\n",
    "from scipy import optimize\n",
    "\n",
    "def f(param_of_interest, *args):\n",
    "\n",
    "    sin_data = args[0]\n",
    "    time_steps = args[1]\n",
    "\n",
    "    model = param_of_interest * numpy.sin(time_steps)\n",
    "    ssq_residuals = numpy.sum((model - sin_data) ** 2)\n",
    "    return ssq_residuals\n",
    "\n",
    "# Your input data\n",
    "time_steps = numpy.arange(20)\n",
    "factor = 2\n",
    "sin_data = factor * numpy.sin(time_steps)\n",
    "\n",
    "result= scipy.optimize.brute(f,\n",
    "                             (slice(-4, 4, 0.25),),\n",
    "                             args=(sin_data, time_steps),\n",
    "                             full_output=True)\n",
    "print(result[0]) # Gives expected answer of 2."
   ]
  },
  {
   "cell_type": "code",
   "execution_count": null,
   "id": "566f32c6",
   "metadata": {},
   "outputs": [],
   "source": []
  }
 ],
 "metadata": {
  "kernelspec": {
   "display_name": "Python 3 (ipykernel)",
   "language": "python",
   "name": "python3"
  },
  "language_info": {
   "codemirror_mode": {
    "name": "ipython",
    "version": 3
   },
   "file_extension": ".py",
   "mimetype": "text/x-python",
   "name": "python",
   "nbconvert_exporter": "python",
   "pygments_lexer": "ipython3",
   "version": "3.9.7"
  }
 },
 "nbformat": 4,
 "nbformat_minor": 5
}
